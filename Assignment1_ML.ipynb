{
  "cells": [
    {
      "cell_type": "markdown",
      "metadata": {
        "id": "view-in-github",
        "colab_type": "text"
      },
      "source": [
        "<a href=\"https://colab.research.google.com/github/amitesh23s/Yelp_review_analysis/blob/main/Assignment1_ML.ipynb\" target=\"_parent\"><img src=\"https://colab.research.google.com/assets/colab-badge.svg\" alt=\"Open In Colab\"/></a>"
      ]
    },
    {
      "cell_type": "code",
      "execution_count": null,
      "metadata": {
        "colab": {
          "base_uri": "https://localhost:8080/",
          "height": 1000
        },
        "id": "UXD8sZai6sBk",
        "outputId": "3e05ee09-a657-454e-ed76-e9e5193a8c30"
      },
      "outputs": [
        {
          "name": "stdout",
          "output_type": "stream",
          "text": [
            "========== Loading data ==========\n",
            "========== Vectorizing data ==========\n",
            "========== Training for 10 epochs ==========\n",
            "Training started for epoch 1\n"
          ]
        },
        {
          "name": "stderr",
          "output_type": "stream",
          "text": [
            "\r  0%|          | 0/1000 [00:00<?, ?it/s]/usr/local/lib/python3.11/dist-packages/torch/nn/modules/module.py:1736: UserWarning: Implicit dimension choice for log_softmax has been deprecated. Change the call to include dim=X as an argument.\n",
            "  return self._call_impl(*args, **kwargs)\n",
            "100%|██████████| 1000/1000 [03:07<00:00,  5.34it/s]\n"
          ]
        },
        {
          "name": "stdout",
          "output_type": "stream",
          "text": [
            "Training completed for epoch 1\n",
            "Training accuracy for epoch 1: 0.4168125\n",
            "Training loss for epoch 1: 1.3544802348017693\n",
            "Training time for this epoch: 187.1241135597229\n",
            "\n",
            "Validation started for epoch 1\n"
          ]
        },
        {
          "name": "stderr",
          "output_type": "stream",
          "text": [
            "100%|██████████| 50/50 [00:01<00:00, 32.19it/s]\n"
          ]
        },
        {
          "name": "stdout",
          "output_type": "stream",
          "text": [
            "Validation completed for epoch 1\n",
            "Validation accuracy for epoch 1: 0.49\n",
            "Validation loss for epoch 1: 0.07383950188755989\n",
            "Validation time for this epoch: 1.5570151805877686\n",
            "Training started for epoch 2\n"
          ]
        },
        {
          "name": "stderr",
          "output_type": "stream",
          "text": [
            "100%|██████████| 1000/1000 [03:48<00:00,  4.37it/s]\n"
          ]
        },
        {
          "name": "stdout",
          "output_type": "stream",
          "text": [
            "Training completed for epoch 2\n",
            "Training accuracy for epoch 2: 0.51025\n",
            "Training loss for epoch 2: 1.1490998811125754\n",
            "Training time for this epoch: 228.6128213405609\n",
            "\n",
            "Validation started for epoch 2\n"
          ]
        },
        {
          "name": "stderr",
          "output_type": "stream",
          "text": [
            "100%|██████████| 50/50 [00:01<00:00, 30.73it/s]\n"
          ]
        },
        {
          "name": "stdout",
          "output_type": "stream",
          "text": [
            "Validation completed for epoch 2\n",
            "Validation accuracy for epoch 2: 0.50125\n",
            "Validation loss for epoch 2: 0.06764452263712883\n",
            "Validation time for this epoch: 1.6303246021270752\n",
            "Training started for epoch 3\n"
          ]
        },
        {
          "name": "stderr",
          "output_type": "stream",
          "text": [
            "100%|██████████| 1000/1000 [03:55<00:00,  4.24it/s]\n"
          ]
        },
        {
          "name": "stdout",
          "output_type": "stream",
          "text": [
            "Training completed for epoch 3\n",
            "Training accuracy for epoch 3: 0.541375\n",
            "Training loss for epoch 3: 1.0642001943588257\n",
            "Training time for this epoch: 235.77340412139893\n",
            "\n",
            "Validation started for epoch 3\n"
          ]
        },
        {
          "name": "stderr",
          "output_type": "stream",
          "text": [
            "100%|██████████| 50/50 [00:01<00:00, 32.36it/s]\n"
          ]
        },
        {
          "name": "stdout",
          "output_type": "stream",
          "text": [
            "Validation completed for epoch 3\n",
            "Validation accuracy for epoch 3: 0.56125\n",
            "Validation loss for epoch 3: 0.0626234657689929\n",
            "Validation time for this epoch: 1.548229694366455\n",
            "Training started for epoch 4\n"
          ]
        },
        {
          "name": "stderr",
          "output_type": "stream",
          "text": [
            "100%|██████████| 1000/1000 [04:01<00:00,  4.15it/s]\n"
          ]
        },
        {
          "name": "stdout",
          "output_type": "stream",
          "text": [
            "Training completed for epoch 4\n",
            "Training accuracy for epoch 4: 0.5875625\n",
            "Training loss for epoch 4: 0.9829318524301052\n",
            "Training time for this epoch: 241.17799282073975\n",
            "\n",
            "Validation started for epoch 4\n"
          ]
        },
        {
          "name": "stderr",
          "output_type": "stream",
          "text": [
            "100%|██████████| 50/50 [00:01<00:00, 30.06it/s]\n"
          ]
        },
        {
          "name": "stdout",
          "output_type": "stream",
          "text": [
            "Validation completed for epoch 4\n",
            "Validation accuracy for epoch 4: 0.49375\n",
            "Validation loss for epoch 4: 0.07713092900812626\n",
            "Validation time for this epoch: 1.6694891452789307\n",
            "Training started for epoch 5\n"
          ]
        },
        {
          "name": "stderr",
          "output_type": "stream",
          "text": [
            "100%|██████████| 1000/1000 [04:34<00:00,  3.64it/s]\n"
          ]
        },
        {
          "name": "stdout",
          "output_type": "stream",
          "text": [
            "Training completed for epoch 5\n",
            "Training accuracy for epoch 5: 0.6135625\n",
            "Training loss for epoch 5: 0.9065123859941959\n",
            "Training time for this epoch: 274.7396230697632\n",
            "\n",
            "Validation started for epoch 5\n"
          ]
        },
        {
          "name": "stderr",
          "output_type": "stream",
          "text": [
            "100%|██████████| 50/50 [00:01<00:00, 30.04it/s]\n"
          ]
        },
        {
          "name": "stdout",
          "output_type": "stream",
          "text": [
            "Validation completed for epoch 5\n",
            "Validation accuracy for epoch 5: 0.5375\n",
            "Validation loss for epoch 5: 0.06753722663968802\n",
            "Validation time for this epoch: 1.6687452793121338\n",
            "Training started for epoch 6\n"
          ]
        },
        {
          "name": "stderr",
          "output_type": "stream",
          "text": [
            "100%|██████████| 1000/1000 [04:04<00:00,  4.09it/s]\n"
          ]
        },
        {
          "name": "stdout",
          "output_type": "stream",
          "text": [
            "Training completed for epoch 6\n",
            "Training accuracy for epoch 6: 0.6295625\n",
            "Training loss for epoch 6: 0.8758806082010269\n",
            "Training time for this epoch: 244.6722800731659\n",
            "\n",
            "Validation started for epoch 6\n"
          ]
        },
        {
          "name": "stderr",
          "output_type": "stream",
          "text": [
            "100%|██████████| 50/50 [00:01<00:00, 32.48it/s]\n"
          ]
        },
        {
          "name": "stdout",
          "output_type": "stream",
          "text": [
            "Validation completed for epoch 6\n",
            "Validation accuracy for epoch 6: 0.585\n",
            "Validation loss for epoch 6: 0.0605749074369669\n",
            "Validation time for this epoch: 1.5434751510620117\n",
            "Training started for epoch 7\n"
          ]
        },
        {
          "name": "stderr",
          "output_type": "stream",
          "text": [
            "100%|██████████| 1000/1000 [04:05<00:00,  4.08it/s]\n"
          ]
        },
        {
          "name": "stdout",
          "output_type": "stream",
          "text": [
            "Training completed for epoch 7\n",
            "Training accuracy for epoch 7: 0.656875\n",
            "Training loss for epoch 7: 0.8134815130531788\n",
            "Training time for this epoch: 245.3939871788025\n",
            "\n",
            "Validation started for epoch 7\n"
          ]
        },
        {
          "name": "stderr",
          "output_type": "stream",
          "text": [
            "100%|██████████| 50/50 [00:01<00:00, 32.59it/s]\n"
          ]
        },
        {
          "name": "stdout",
          "output_type": "stream",
          "text": [
            "Validation completed for epoch 7\n",
            "Validation accuracy for epoch 7: 0.5825\n",
            "Validation loss for epoch 7: 0.0642319582030177\n",
            "Validation time for this epoch: 1.5369682312011719\n",
            "Training started for epoch 8\n"
          ]
        },
        {
          "name": "stderr",
          "output_type": "stream",
          "text": [
            "100%|██████████| 1000/1000 [04:07<00:00,  4.04it/s]\n"
          ]
        },
        {
          "name": "stdout",
          "output_type": "stream",
          "text": [
            "Training completed for epoch 8\n",
            "Training accuracy for epoch 8: 0.6790625\n",
            "Training loss for epoch 8: 0.775862259477377\n",
            "Training time for this epoch: 247.26345086097717\n",
            "\n",
            "Validation started for epoch 8\n"
          ]
        },
        {
          "name": "stderr",
          "output_type": "stream",
          "text": [
            "100%|██████████| 50/50 [00:01<00:00, 33.28it/s]\n"
          ]
        },
        {
          "name": "stdout",
          "output_type": "stream",
          "text": [
            "Validation completed for epoch 8\n",
            "Validation accuracy for epoch 8: 0.51375\n",
            "Validation loss for epoch 8: 0.07144994542002678\n",
            "Validation time for this epoch: 1.5056967735290527\n",
            "Training started for epoch 9\n"
          ]
        },
        {
          "name": "stderr",
          "output_type": "stream",
          "text": [
            "100%|██████████| 1000/1000 [04:08<00:00,  4.02it/s]\n"
          ]
        },
        {
          "name": "stdout",
          "output_type": "stream",
          "text": [
            "Training completed for epoch 9\n",
            "Training accuracy for epoch 9: 0.7096875\n",
            "Training loss for epoch 9: 0.7139917351603507\n",
            "Training time for this epoch: 248.85664463043213\n",
            "\n",
            "Validation started for epoch 9\n"
          ]
        },
        {
          "name": "stderr",
          "output_type": "stream",
          "text": [
            "100%|██████████| 50/50 [00:01<00:00, 32.59it/s]\n"
          ]
        },
        {
          "name": "stdout",
          "output_type": "stream",
          "text": [
            "Validation completed for epoch 9\n",
            "Validation accuracy for epoch 9: 0.53875\n",
            "Validation loss for epoch 9: 0.06608751371502876\n",
            "Validation time for this epoch: 1.5374023914337158\n",
            "Training started for epoch 10\n"
          ]
        },
        {
          "name": "stderr",
          "output_type": "stream",
          "text": [
            "100%|██████████| 1000/1000 [04:12<00:00,  3.96it/s]\n"
          ]
        },
        {
          "name": "stdout",
          "output_type": "stream",
          "text": [
            "Training completed for epoch 10\n",
            "Training accuracy for epoch 10: 0.73225\n",
            "Training loss for epoch 10: 0.6621243115067482\n",
            "Training time for this epoch: 252.7549114227295\n",
            "\n",
            "Validation started for epoch 10\n"
          ]
        },
        {
          "name": "stderr",
          "output_type": "stream",
          "text": [
            "100%|██████████| 50/50 [00:01<00:00, 32.71it/s]\n"
          ]
        },
        {
          "name": "stdout",
          "output_type": "stream",
          "text": [
            "Validation completed for epoch 10\n",
            "Validation accuracy for epoch 10: 0.585\n",
            "Validation loss for epoch 10: 0.06564930204302072\n",
            "Validation time for this epoch: 1.5314321517944336\n"
          ]
        },
        {
          "ename": "ValueError",
          "evalue": "x and y must have same first dimension, but have shapes (1,) and (10,)",
          "output_type": "error",
          "traceback": [
            "\u001b[0;31m---------------------------------------------------------------------------\u001b[0m",
            "\u001b[0;31mValueError\u001b[0m                                Traceback (most recent call last)",
            "\u001b[0;32m<ipython-input-4-de97369612a1>\u001b[0m in \u001b[0;36m<cell line: 0>\u001b[0;34m()\u001b[0m\n\u001b[1;32m    216\u001b[0m     \u001b[0max1\u001b[0m\u001b[0;34m.\u001b[0m\u001b[0mset_xlabel\u001b[0m\u001b[0;34m(\u001b[0m\u001b[0;34m\"Epochs\"\u001b[0m\u001b[0;34m)\u001b[0m\u001b[0;34m\u001b[0m\u001b[0;34m\u001b[0m\u001b[0m\n\u001b[1;32m    217\u001b[0m     \u001b[0max1\u001b[0m\u001b[0;34m.\u001b[0m\u001b[0mset_ylabel\u001b[0m\u001b[0;34m(\u001b[0m\u001b[0;34m\"Training Loss\"\u001b[0m\u001b[0;34m,\u001b[0m \u001b[0mcolor\u001b[0m\u001b[0;34m=\u001b[0m\u001b[0;34m'red'\u001b[0m\u001b[0;34m)\u001b[0m\u001b[0;34m\u001b[0m\u001b[0;34m\u001b[0m\u001b[0m\n\u001b[0;32m--> 218\u001b[0;31m     \u001b[0max1\u001b[0m\u001b[0;34m.\u001b[0m\u001b[0mplot\u001b[0m\u001b[0;34m(\u001b[0m\u001b[0margs\u001b[0m\u001b[0;34m.\u001b[0m\u001b[0mepochs\u001b[0m\u001b[0;34m,\u001b[0m \u001b[0mtraining_losses\u001b[0m\u001b[0;34m,\u001b[0m \u001b[0mmarker\u001b[0m\u001b[0;34m=\u001b[0m\u001b[0;34m'o'\u001b[0m\u001b[0;34m,\u001b[0m \u001b[0mlinestyle\u001b[0m\u001b[0;34m=\u001b[0m\u001b[0;34m'-'\u001b[0m\u001b[0;34m,\u001b[0m \u001b[0mcolor\u001b[0m\u001b[0;34m=\u001b[0m\u001b[0;34m'red'\u001b[0m\u001b[0;34m,\u001b[0m \u001b[0mlabel\u001b[0m\u001b[0;34m=\u001b[0m\u001b[0;34m\"Training Loss\"\u001b[0m\u001b[0;34m)\u001b[0m\u001b[0;34m\u001b[0m\u001b[0;34m\u001b[0m\u001b[0m\n\u001b[0m\u001b[1;32m    219\u001b[0m     \u001b[0max1\u001b[0m\u001b[0;34m.\u001b[0m\u001b[0mtick_params\u001b[0m\u001b[0;34m(\u001b[0m\u001b[0maxis\u001b[0m\u001b[0;34m=\u001b[0m\u001b[0;34m'y'\u001b[0m\u001b[0;34m,\u001b[0m \u001b[0mlabelcolor\u001b[0m\u001b[0;34m=\u001b[0m\u001b[0;34m'red'\u001b[0m\u001b[0;34m)\u001b[0m\u001b[0;34m\u001b[0m\u001b[0;34m\u001b[0m\u001b[0m\n\u001b[1;32m    220\u001b[0m \u001b[0;34m\u001b[0m\u001b[0m\n",
            "\u001b[0;32m/usr/local/lib/python3.11/dist-packages/matplotlib/axes/_axes.py\u001b[0m in \u001b[0;36mplot\u001b[0;34m(self, scalex, scaley, data, *args, **kwargs)\u001b[0m\n\u001b[1;32m   1775\u001b[0m         \"\"\"\n\u001b[1;32m   1776\u001b[0m         \u001b[0mkwargs\u001b[0m \u001b[0;34m=\u001b[0m \u001b[0mcbook\u001b[0m\u001b[0;34m.\u001b[0m\u001b[0mnormalize_kwargs\u001b[0m\u001b[0;34m(\u001b[0m\u001b[0mkwargs\u001b[0m\u001b[0;34m,\u001b[0m \u001b[0mmlines\u001b[0m\u001b[0;34m.\u001b[0m\u001b[0mLine2D\u001b[0m\u001b[0;34m)\u001b[0m\u001b[0;34m\u001b[0m\u001b[0;34m\u001b[0m\u001b[0m\n\u001b[0;32m-> 1777\u001b[0;31m         \u001b[0mlines\u001b[0m \u001b[0;34m=\u001b[0m \u001b[0;34m[\u001b[0m\u001b[0;34m*\u001b[0m\u001b[0mself\u001b[0m\u001b[0;34m.\u001b[0m\u001b[0m_get_lines\u001b[0m\u001b[0;34m(\u001b[0m\u001b[0mself\u001b[0m\u001b[0;34m,\u001b[0m \u001b[0;34m*\u001b[0m\u001b[0margs\u001b[0m\u001b[0;34m,\u001b[0m \u001b[0mdata\u001b[0m\u001b[0;34m=\u001b[0m\u001b[0mdata\u001b[0m\u001b[0;34m,\u001b[0m \u001b[0;34m**\u001b[0m\u001b[0mkwargs\u001b[0m\u001b[0;34m)\u001b[0m\u001b[0;34m]\u001b[0m\u001b[0;34m\u001b[0m\u001b[0;34m\u001b[0m\u001b[0m\n\u001b[0m\u001b[1;32m   1778\u001b[0m         \u001b[0;32mfor\u001b[0m \u001b[0mline\u001b[0m \u001b[0;32min\u001b[0m \u001b[0mlines\u001b[0m\u001b[0;34m:\u001b[0m\u001b[0;34m\u001b[0m\u001b[0;34m\u001b[0m\u001b[0m\n\u001b[1;32m   1779\u001b[0m             \u001b[0mself\u001b[0m\u001b[0;34m.\u001b[0m\u001b[0madd_line\u001b[0m\u001b[0;34m(\u001b[0m\u001b[0mline\u001b[0m\u001b[0;34m)\u001b[0m\u001b[0;34m\u001b[0m\u001b[0;34m\u001b[0m\u001b[0m\n",
            "\u001b[0;32m/usr/local/lib/python3.11/dist-packages/matplotlib/axes/_base.py\u001b[0m in \u001b[0;36m__call__\u001b[0;34m(self, axes, data, return_kwargs, *args, **kwargs)\u001b[0m\n\u001b[1;32m    295\u001b[0m                 \u001b[0mthis\u001b[0m \u001b[0;34m+=\u001b[0m \u001b[0margs\u001b[0m\u001b[0;34m[\u001b[0m\u001b[0;36m0\u001b[0m\u001b[0;34m]\u001b[0m\u001b[0;34m,\u001b[0m\u001b[0;34m\u001b[0m\u001b[0;34m\u001b[0m\u001b[0m\n\u001b[1;32m    296\u001b[0m                 \u001b[0margs\u001b[0m \u001b[0;34m=\u001b[0m \u001b[0margs\u001b[0m\u001b[0;34m[\u001b[0m\u001b[0;36m1\u001b[0m\u001b[0;34m:\u001b[0m\u001b[0;34m]\u001b[0m\u001b[0;34m\u001b[0m\u001b[0;34m\u001b[0m\u001b[0m\n\u001b[0;32m--> 297\u001b[0;31m             yield from self._plot_args(\n\u001b[0m\u001b[1;32m    298\u001b[0m                 \u001b[0maxes\u001b[0m\u001b[0;34m,\u001b[0m \u001b[0mthis\u001b[0m\u001b[0;34m,\u001b[0m \u001b[0mkwargs\u001b[0m\u001b[0;34m,\u001b[0m \u001b[0mambiguous_fmt_datakey\u001b[0m\u001b[0;34m=\u001b[0m\u001b[0mambiguous_fmt_datakey\u001b[0m\u001b[0;34m,\u001b[0m\u001b[0;34m\u001b[0m\u001b[0;34m\u001b[0m\u001b[0m\n\u001b[1;32m    299\u001b[0m                 \u001b[0mreturn_kwargs\u001b[0m\u001b[0;34m=\u001b[0m\u001b[0mreturn_kwargs\u001b[0m\u001b[0;34m\u001b[0m\u001b[0;34m\u001b[0m\u001b[0m\n",
            "\u001b[0;32m/usr/local/lib/python3.11/dist-packages/matplotlib/axes/_base.py\u001b[0m in \u001b[0;36m_plot_args\u001b[0;34m(self, axes, tup, kwargs, return_kwargs, ambiguous_fmt_datakey)\u001b[0m\n\u001b[1;32m    492\u001b[0m \u001b[0;34m\u001b[0m\u001b[0m\n\u001b[1;32m    493\u001b[0m         \u001b[0;32mif\u001b[0m \u001b[0mx\u001b[0m\u001b[0;34m.\u001b[0m\u001b[0mshape\u001b[0m\u001b[0;34m[\u001b[0m\u001b[0;36m0\u001b[0m\u001b[0;34m]\u001b[0m \u001b[0;34m!=\u001b[0m \u001b[0my\u001b[0m\u001b[0;34m.\u001b[0m\u001b[0mshape\u001b[0m\u001b[0;34m[\u001b[0m\u001b[0;36m0\u001b[0m\u001b[0;34m]\u001b[0m\u001b[0;34m:\u001b[0m\u001b[0;34m\u001b[0m\u001b[0;34m\u001b[0m\u001b[0m\n\u001b[0;32m--> 494\u001b[0;31m             raise ValueError(f\"x and y must have same first dimension, but \"\n\u001b[0m\u001b[1;32m    495\u001b[0m                              f\"have shapes {x.shape} and {y.shape}\")\n\u001b[1;32m    496\u001b[0m         \u001b[0;32mif\u001b[0m \u001b[0mx\u001b[0m\u001b[0;34m.\u001b[0m\u001b[0mndim\u001b[0m \u001b[0;34m>\u001b[0m \u001b[0;36m2\u001b[0m \u001b[0;32mor\u001b[0m \u001b[0my\u001b[0m\u001b[0;34m.\u001b[0m\u001b[0mndim\u001b[0m \u001b[0;34m>\u001b[0m \u001b[0;36m2\u001b[0m\u001b[0;34m:\u001b[0m\u001b[0;34m\u001b[0m\u001b[0;34m\u001b[0m\u001b[0m\n",
            "\u001b[0;31mValueError\u001b[0m: x and y must have same first dimension, but have shapes (1,) and (10,)"
          ]
        },
        {
          "data": {
            "image/png": "[encoded data removed]",
            "text/plain": [
              "<Figure size 800x500 with 1 Axes>"
            ]
          },
          "metadata": {},
          "output_type": "display_data"
        }
      ],
      "source": [
        "import sys\n",
        "import numpy as np\n",
        "import torch\n",
        "import torch.nn as nn\n",
        "from torch.nn import init\n",
        "import torch.optim as optim\n",
        "import math\n",
        "import random\n",
        "import os\n",
        "import time\n",
        "from tqdm import tqdm\n",
        "import json\n",
        "from argparse import ArgumentParser\n",
        "import matplotlib.pyplot as plt\n",
        "\n",
        "unk = '<UNK>'\n",
        "# Consult the PyTorch documentation for information on the functions used below:\n",
        "# https://pytorch.org/docs/stable/torch.html\n",
        "class FFNN(nn.Module):\n",
        "    def __init__(self, input_dim, h):\n",
        "        super(FFNN, self).__init__()\n",
        "        self.h = h\n",
        "        self.W1 = nn.Linear(input_dim, h)\n",
        "        self.activation = nn.ReLU() # The rectified linear unit; one valid choice of activation function\n",
        "        self.output_dim = 5\n",
        "        self.W2 = nn.Linear(h, self.output_dim)\n",
        "\n",
        "        self.softmax = nn.LogSoftmax() # The softmax function that converts vectors into probability distributions; computes log probabilities for computational benefits\n",
        "        self.loss = nn.NLLLoss() # The cross-entropy/negative log likelihood loss taught in class\n",
        "\n",
        "    def compute_Loss(self, predicted_vector, gold_label):\n",
        "        return self.loss(predicted_vector, gold_label)\n",
        "\n",
        "    def forward(self, input_vector):\n",
        "        # [to fill] obtain first hidden layer representation\n",
        "        first_hidden_layer = self.activation(self.W1(input_vector))\n",
        "        # [to fill] obtain output layer representation\n",
        "        output_layer = self.W2(first_hidden_layer)\n",
        "        # [to fill] obtain probability dist.\n",
        "        predicted_vector = self.softmax(output_layer)\n",
        "        return predicted_vector\n",
        "\n",
        "\n",
        "# Returns:\n",
        "# vocab = A set of strings corresponding to the vocabulary\n",
        "def make_vocab(data):\n",
        "    vocab = set()\n",
        "    for document, _ in data:\n",
        "        for word in document:\n",
        "            vocab.add(word)\n",
        "    return vocab\n",
        "\n",
        "\n",
        "# Returns:\n",
        "# vocab = A set of strings corresponding to the vocabulary including <UNK>\n",
        "# word2index = A dictionary mapping word/token to its index (a number in 0, ..., V - 1)\n",
        "# index2word = A dictionary inverting the mapping of word2index\n",
        "def make_indices(vocab):\n",
        "    vocab_list = sorted(vocab)\n",
        "    vocab_list.append(unk)\n",
        "    word2index = {}\n",
        "    index2word = {}\n",
        "    for index, word in enumerate(vocab_list):\n",
        "        word2index[word] = index\n",
        "        index2word[index] = word\n",
        "    vocab.add(unk)\n",
        "    return vocab, word2index, index2word\n",
        "\n",
        "\n",
        "# Returns:\n",
        "# vectorized_data = A list of pairs (vector representation of input, y)\n",
        "def convert_to_vector_representation(data, word2index):\n",
        "    vectorized_data = []\n",
        "    for document, y in data:\n",
        "        vector = torch.zeros(len(word2index))\n",
        "        for word in document:\n",
        "            index = word2index.get(word, word2index[unk])\n",
        "            vector[index] += 1\n",
        "        vectorized_data.append((vector, y))\n",
        "    return vectorized_data\n",
        "\n",
        "\n",
        "\n",
        "def load_data(train_data, val_data):\n",
        "    with open(train_data) as training_f:\n",
        "        training = json.load(training_f)\n",
        "    with open(val_data) as valid_f:\n",
        "        validation = json.load(valid_f)\n",
        "\n",
        "    tra = []\n",
        "    val = []\n",
        "    for elt in training:\n",
        "        tra.append((elt[\"text\"].split(),int(elt[\"stars\"]-1)))\n",
        "    for elt in validation:\n",
        "        val.append((elt[\"text\"].split(),int(elt[\"stars\"]-1)))\n",
        "\n",
        "    return tra, val\n",
        "\n",
        "\n",
        "if __name__ == \"__main__\":\n",
        "    sys.argv = [\n",
        "        \"ffnn\",  # First argument is always the script name\n",
        "        \"-hd\", \"64\",\n",
        "        \"-e\", \"10\",\n",
        "        \"--train_data\", \"/content/training.json\",\n",
        "        \"--val_data\", \"/content/validation.json\",\n",
        "        \"--test_data\", \"/content/test.json\",\n",
        "        \"--do_train\"  # Flag argument\n",
        "    ]\n",
        "    parser = ArgumentParser()\n",
        "    parser.add_argument(\"-hd\", \"--hidden_dim\", type=int, required = True, help = \"hidden_dim\")\n",
        "    parser.add_argument(\"-e\", \"--epochs\", type=int, required = True, help = \"num of epochs to train\")\n",
        "    parser.add_argument(\"--train_data\", required = True, help = \"path to training data\")\n",
        "    parser.add_argument(\"--val_data\", required = True, help = \"path to validation data\")\n",
        "    parser.add_argument(\"--test_data\", default = \"to fill\", help = \"path to test data\")\n",
        "    parser.add_argument('--do_train', action='store_true')\n",
        "    args = parser.parse_args()\n",
        "\n",
        "    # fix random seeds\n",
        "    random.seed(42)\n",
        "    torch.manual_seed(42)\n",
        "\n",
        "    # load data\n",
        "    print(\"========== Loading data ==========\")\n",
        "    train_data, valid_data = load_data(args.train_data, args.val_data) # X_data is a list of pairs (document, y); y in {0,1,2,3,4}\n",
        "    vocab = make_vocab(train_data)\n",
        "    vocab, word2index, index2word = make_indices(vocab)\n",
        "\n",
        "    print(\"========== Vectorizing data ==========\")\n",
        "    train_data = convert_to_vector_representation(train_data, word2index)\n",
        "    valid_data = convert_to_vector_representation(valid_data, word2index)\n",
        "\n",
        "\n",
        "    training_losses = []  # Decreasing loss\n",
        "    validation_accuracies = []\n",
        "    model = FFNN(input_dim = len(vocab), h = args.hidden_dim)\n",
        "    optimizer = optim.SGD(model.parameters(),lr=0.01, momentum=0.9)\n",
        "    print(\"========== Training for {} epochs ==========\".format(args.epochs))\n",
        "    for epoch in range(args.epochs):\n",
        "        model.train()\n",
        "        optimizer.zero_grad()\n",
        "        loss = None\n",
        "        correct = 0\n",
        "        total = 0\n",
        "        total_loss = 0\n",
        "        loss_count = 0\n",
        "        start_time = time.time()\n",
        "        print(\"Training started for epoch {}\".format(epoch + 1))\n",
        "        random.shuffle(train_data) # Good practice to shuffle order of training data\n",
        "        minibatch_size = 16\n",
        "        N = len(train_data)\n",
        "        for minibatch_index in tqdm(range(N // minibatch_size)):\n",
        "            optimizer.zero_grad()\n",
        "            loss = None\n",
        "            for example_index in range(minibatch_size):\n",
        "                input_vector, gold_label = train_data[minibatch_index * minibatch_size + example_index]\n",
        "                predicted_vector = model(input_vector)\n",
        "                predicted_label = torch.argmax(predicted_vector)\n",
        "                correct += int(predicted_label == gold_label)\n",
        "                total += 1\n",
        "                example_loss = model.compute_Loss(predicted_vector.view(1,-1), torch.tensor([gold_label]))\n",
        "                if loss is None:\n",
        "                    loss = example_loss\n",
        "                else:\n",
        "                    loss += example_loss\n",
        "            loss = loss / minibatch_size\n",
        "            total_loss += loss.item()\n",
        "            loss_count += 1\n",
        "            loss.backward()\n",
        "            optimizer.step()\n",
        "\n",
        "        avg_training_loss = total_loss / loss_count if loss_count > 0 else 0.0\n",
        "        training_losses.append(avg_training_loss)\n",
        "        print(\"Training completed for epoch {}\".format(epoch + 1))\n",
        "        print(\"Training accuracy for epoch {}: {}\".format(epoch + 1, correct / total))\n",
        "        print(\"Training loss for epoch {}: {}\".format(epoch + 1, avg_training_loss))\n",
        "        print(\"Training time for this epoch: {}\".format(time.time() - start_time))\n",
        "        print()\n",
        "\n",
        "\n",
        "        loss = None\n",
        "        correct = 0\n",
        "        total = 0\n",
        "        total_loss = 0\n",
        "        start_time = time.time()\n",
        "        print(\"Validation started for epoch {}\".format(epoch + 1))\n",
        "        minibatch_size = 16\n",
        "        N = len(valid_data)\n",
        "        for minibatch_index in tqdm(range(N // minibatch_size)):\n",
        "            optimizer.zero_grad()\n",
        "            loss = None\n",
        "            for example_index in range(minibatch_size):\n",
        "                input_vector, gold_label = valid_data[minibatch_index * minibatch_size + example_index]\n",
        "                predicted_vector = model(input_vector)\n",
        "                predicted_label = torch.argmax(predicted_vector)\n",
        "                correct += int(predicted_label == gold_label)\n",
        "                total += 1\n",
        "                example_loss = model.compute_Loss(predicted_vector.view(1,-1), torch.tensor([gold_label]))\n",
        "                if loss is None:\n",
        "                    loss = example_loss\n",
        "                else:\n",
        "                    loss += example_loss\n",
        "            loss = loss / minibatch_size\n",
        "            total_loss += loss.item()\n",
        "        print(\"Validation completed for epoch {}\".format(epoch + 1))\n",
        "        print(\"Validation accuracy for epoch {}: {}\".format(epoch + 1, correct / total))\n",
        "        print(\"Validation loss for epoch {}: {}\".format(epoch + 1, total_loss / N))\n",
        "        print(\"Validation time for this epoch: {}\".format(time.time() - start_time))\n",
        "        validation_accuracy = (correct / total) * 100 if total > 0 else 0.0\n",
        "        validation_accuracies.append(validation_accuracy)\n",
        "\n",
        "    # Create a single plot for both Training Loss and Validation Accuracy\n",
        "    fig, ax1 = plt.subplots(figsize=(8, 5))\n",
        "\n",
        "    # Plot Training Loss on the left y-axis\n",
        "    ax1.set_xlabel(\"Epochs\")\n",
        "    ax1.set_ylabel(\"Training Loss\", color='red')\n",
        "    ax1.plot(range(1, args.epochs + 1), training_losses, marker='o', linestyle='-', color='red', label=\"Training Loss\")\n",
        "    ax1.tick_params(axis='y', labelcolor='red')\n",
        "\n",
        "    # Create a secondary y-axis for Validation Accuracy\n",
        "    ax2 = ax1.twinx()\n",
        "    ax2.set_ylabel(\"Validation Accuracy (%)\", color='blue')\n",
        "    ax2.plot(range(1, args.epochs + 1), validation_accuracies, marker='s', linestyle='--', color='blue', label=\"Validation Accuracy\")\n",
        "    ax2.tick_params(axis='y', labelcolor='blue')\n",
        "\n",
        "    # Title and Grid\n",
        "    plt.title(\"Training Loss and Validation Accuracy Over Epochs\")\n",
        "    fig.tight_layout()\n",
        "    plt.grid(True)\n",
        "    plt.show()\n",
        "    # write out to results/test.out\n"
      ]
    },
    {
      "cell_type": "code",
      "execution_count": null,
      "metadata": {
        "colab": {
          "base_uri": "https://localhost:8080/",
          "height": 507
        },
        "id": "Jajur1d6QOQE",
        "outputId": "66159015-ba80-469e-bdf7-6ca7a4efe0e6"
      },
      "outputs": [
        {
          "data": {
            "image/png": "[encoded data removed]",
            "text/plain": [
              "<Figure size 800x500 with 2 Axes>"
            ]
          },
          "metadata": {},
          "output_type": "display_data"
        }
      ],
      "source": [
        "fig, ax1 = plt.subplots(figsize=(8, 5))\n",
        "\n",
        "    # Plot Training Loss on the left y-axis\n",
        "ax1.set_xlabel(\"Epochs\")\n",
        "ax1.set_ylabel(\"Training Loss\", color='red')\n",
        "ax1.plot(range(1, args.epochs + 1), training_losses, marker='o', linestyle='-', color='red', label=\"Training Loss\")\n",
        "ax1.tick_params(axis='y', labelcolor='red')\n",
        "\n",
        "    # Create a secondary y-axis for Validation Accuracy\n",
        "ax2 = ax1.twinx()\n",
        "ax2.set_ylabel(\"Validation Accuracy (%)\", color='blue')\n",
        "ax2.plot(range(1, args.epochs + 1), validation_accuracies, marker='s', linestyle='--', color='blue', label=\"Validation Accuracy\")\n",
        "ax2.tick_params(axis='y', labelcolor='blue')\n",
        "\n",
        "    # Title and Grid\n",
        "plt.title(\"Training Loss and Validation Accuracy Over Epochs\")\n",
        "fig.tight_layout()\n",
        "plt.grid(True)\n",
        "plt.show()"
      ]
    },
    {
      "cell_type": "code",
      "execution_count": 2,
      "metadata": {
        "colab": {
          "base_uri": "https://localhost:8080/",
          "height": 1000
        },
        "id": "fPCHiHOO0_Xi",
        "outputId": "f633229a-e112-4873-fa69-78e82163b4a6"
      },
      "outputs": [
        {
          "output_type": "stream",
          "name": "stdout",
          "text": [
            "========== Loading data ==========\n",
            "========== Vectorizing data ==========\n",
            "Training started for epoch 1\n"
          ]
        },
        {
          "output_type": "stream",
          "name": "stderr",
          "text": [
            "\r  0%|          | 0/500 [00:00<?, ?it/s]<ipython-input-2-45dbc4d53581>:130: UserWarning: Creating a tensor from a list of numpy.ndarrays is extremely slow. Please consider converting the list to a single numpy.ndarray with numpy.array() before converting to a tensor. (Triggered internally at /pytorch/torch/csrc/utils/tensor_new.cpp:254.)\n",
            "  vectors = torch.tensor(vectors).view(len(vectors), 1, -1)\n",
            "100%|██████████| 500/500 [04:22<00:00,  1.90it/s]\n"
          ]
        },
        {
          "output_type": "stream",
          "name": "stdout",
          "text": [
            "tensor(1.6271)\n",
            "Training loss for epoch 1: 1.6271339654922485\n",
            "Training completed for epoch 1\n",
            "Training accuracy for epoch 1: 0.205\n",
            "Validation started for epoch 1\n"
          ]
        },
        {
          "output_type": "stream",
          "name": "stderr",
          "text": [
            "100%|██████████| 800/800 [00:06<00:00, 130.85it/s]\n"
          ]
        },
        {
          "output_type": "stream",
          "name": "stdout",
          "text": [
            "Validation completed for epoch 1\n",
            "Validation accuracy for epoch 1: 0.2975\n",
            "Training started for epoch 2\n"
          ]
        },
        {
          "output_type": "stream",
          "name": "stderr",
          "text": [
            "100%|██████████| 500/500 [04:24<00:00,  1.89it/s]\n"
          ]
        },
        {
          "output_type": "stream",
          "name": "stdout",
          "text": [
            "tensor(1.6167)\n",
            "Training loss for epoch 2: 1.616698980331421\n",
            "Training completed for epoch 2\n",
            "Training accuracy for epoch 2: 0.210125\n",
            "Validation started for epoch 2\n"
          ]
        },
        {
          "output_type": "stream",
          "name": "stderr",
          "text": [
            "100%|██████████| 800/800 [00:05<00:00, 133.41it/s]\n"
          ]
        },
        {
          "output_type": "stream",
          "name": "stdout",
          "text": [
            "Validation completed for epoch 2\n",
            "Validation accuracy for epoch 2: 0.27875\n",
            "Training started for epoch 3\n"
          ]
        },
        {
          "output_type": "stream",
          "name": "stderr",
          "text": [
            "100%|██████████| 500/500 [04:24<00:00,  1.89it/s]\n"
          ]
        },
        {
          "output_type": "stream",
          "name": "stdout",
          "text": [
            "tensor(1.6121)\n",
            "Training loss for epoch 3: 1.6121090650558472\n",
            "Training completed for epoch 3\n",
            "Training accuracy for epoch 3: 0.2180625\n",
            "Validation started for epoch 3\n"
          ]
        },
        {
          "output_type": "stream",
          "name": "stderr",
          "text": [
            "100%|██████████| 800/800 [00:05<00:00, 152.47it/s]\n"
          ]
        },
        {
          "output_type": "stream",
          "name": "stdout",
          "text": [
            "Validation completed for epoch 3\n",
            "Validation accuracy for epoch 3: 0.27125\n",
            "Training started for epoch 4\n"
          ]
        },
        {
          "output_type": "stream",
          "name": "stderr",
          "text": [
            "100%|██████████| 500/500 [04:26<00:00,  1.88it/s]\n"
          ]
        },
        {
          "output_type": "stream",
          "name": "stdout",
          "text": [
            "tensor(1.6092)\n",
            "Training loss for epoch 4: 1.609247088432312\n",
            "Training completed for epoch 4\n",
            "Training accuracy for epoch 4: 0.2225625\n",
            "Validation started for epoch 4\n"
          ]
        },
        {
          "output_type": "stream",
          "name": "stderr",
          "text": [
            "100%|██████████| 800/800 [00:05<00:00, 140.98it/s]\n"
          ]
        },
        {
          "output_type": "stream",
          "name": "stdout",
          "text": [
            "Validation completed for epoch 4\n",
            "Validation accuracy for epoch 4: 0.26375\n",
            "Training started for epoch 5\n"
          ]
        },
        {
          "output_type": "stream",
          "name": "stderr",
          "text": [
            "100%|██████████| 500/500 [04:37<00:00,  1.80it/s]\n"
          ]
        },
        {
          "output_type": "stream",
          "name": "stdout",
          "text": [
            "tensor(1.6069)\n",
            "Training loss for epoch 5: 1.606947660446167\n",
            "Training completed for epoch 5\n",
            "Training accuracy for epoch 5: 0.2249375\n",
            "Validation started for epoch 5\n"
          ]
        },
        {
          "output_type": "stream",
          "name": "stderr",
          "text": [
            "100%|██████████| 800/800 [00:04<00:00, 163.71it/s]\n"
          ]
        },
        {
          "output_type": "stream",
          "name": "stdout",
          "text": [
            "Validation completed for epoch 5\n",
            "Validation accuracy for epoch 5: 0.2675\n",
            "Training started for epoch 6\n"
          ]
        },
        {
          "output_type": "stream",
          "name": "stderr",
          "text": [
            "100%|██████████| 500/500 [04:21<00:00,  1.91it/s]\n"
          ]
        },
        {
          "output_type": "stream",
          "name": "stdout",
          "text": [
            "tensor(1.6048)\n",
            "Training loss for epoch 6: 1.6048070192337036\n",
            "Training completed for epoch 6\n",
            "Training accuracy for epoch 6: 0.2256875\n",
            "Validation started for epoch 6\n"
          ]
        },
        {
          "output_type": "stream",
          "name": "stderr",
          "text": [
            "100%|██████████| 800/800 [00:05<00:00, 154.65it/s]\n"
          ]
        },
        {
          "output_type": "stream",
          "name": "stdout",
          "text": [
            "Validation completed for epoch 6\n",
            "Validation accuracy for epoch 6: 0.2725\n",
            "Training started for epoch 7\n"
          ]
        },
        {
          "output_type": "stream",
          "name": "stderr",
          "text": [
            " 85%|████████▌ | 427/500 [03:43<00:38,  1.91it/s]\n"
          ]
        },
        {
          "output_type": "error",
          "ename": "KeyboardInterrupt",
          "evalue": "",
          "traceback": [
            "\u001b[0;31m---------------------------------------------------------------------------\u001b[0m",
            "\u001b[0;31mKeyboardInterrupt\u001b[0m                         Traceback (most recent call last)",
            "\u001b[0;32m<ipython-input-2-45dbc4d53581>\u001b[0m in \u001b[0;36m<cell line: 0>\u001b[0;34m()\u001b[0m\n\u001b[1;32m    148\u001b[0m             \u001b[0mloss_total\u001b[0m \u001b[0;34m+=\u001b[0m \u001b[0mloss\u001b[0m\u001b[0;34m.\u001b[0m\u001b[0mdata\u001b[0m\u001b[0;34m\u001b[0m\u001b[0;34m\u001b[0m\u001b[0m\n\u001b[1;32m    149\u001b[0m             \u001b[0mloss_count\u001b[0m \u001b[0;34m+=\u001b[0m \u001b[0;36m1\u001b[0m\u001b[0;34m\u001b[0m\u001b[0;34m\u001b[0m\u001b[0m\n\u001b[0;32m--> 150\u001b[0;31m             \u001b[0mloss\u001b[0m\u001b[0;34m.\u001b[0m\u001b[0mbackward\u001b[0m\u001b[0;34m(\u001b[0m\u001b[0;34m)\u001b[0m\u001b[0;34m\u001b[0m\u001b[0;34m\u001b[0m\u001b[0m\n\u001b[0m\u001b[1;32m    151\u001b[0m             \u001b[0moptimizer\u001b[0m\u001b[0;34m.\u001b[0m\u001b[0mstep\u001b[0m\u001b[0;34m(\u001b[0m\u001b[0;34m)\u001b[0m\u001b[0;34m\u001b[0m\u001b[0;34m\u001b[0m\u001b[0m\n\u001b[1;32m    152\u001b[0m         \u001b[0mprint\u001b[0m\u001b[0;34m(\u001b[0m\u001b[0mloss_total\u001b[0m\u001b[0;34m/\u001b[0m\u001b[0mloss_count\u001b[0m\u001b[0;34m)\u001b[0m\u001b[0;34m\u001b[0m\u001b[0;34m\u001b[0m\u001b[0m\n",
            "\u001b[0;32m/usr/local/lib/python3.11/dist-packages/torch/_tensor.py\u001b[0m in \u001b[0;36mbackward\u001b[0;34m(self, gradient, retain_graph, create_graph, inputs)\u001b[0m\n\u001b[1;32m    624\u001b[0m                 \u001b[0minputs\u001b[0m\u001b[0;34m=\u001b[0m\u001b[0minputs\u001b[0m\u001b[0;34m,\u001b[0m\u001b[0;34m\u001b[0m\u001b[0;34m\u001b[0m\u001b[0m\n\u001b[1;32m    625\u001b[0m             )\n\u001b[0;32m--> 626\u001b[0;31m         torch.autograd.backward(\n\u001b[0m\u001b[1;32m    627\u001b[0m             \u001b[0mself\u001b[0m\u001b[0;34m,\u001b[0m \u001b[0mgradient\u001b[0m\u001b[0;34m,\u001b[0m \u001b[0mretain_graph\u001b[0m\u001b[0;34m,\u001b[0m \u001b[0mcreate_graph\u001b[0m\u001b[0;34m,\u001b[0m \u001b[0minputs\u001b[0m\u001b[0;34m=\u001b[0m\u001b[0minputs\u001b[0m\u001b[0;34m\u001b[0m\u001b[0;34m\u001b[0m\u001b[0m\n\u001b[1;32m    628\u001b[0m         )\n",
            "\u001b[0;32m/usr/local/lib/python3.11/dist-packages/torch/autograd/__init__.py\u001b[0m in \u001b[0;36mbackward\u001b[0;34m(tensors, grad_tensors, retain_graph, create_graph, grad_variables, inputs)\u001b[0m\n\u001b[1;32m    345\u001b[0m     \u001b[0;31m# some Python versions print out the first line of a multi-line function\u001b[0m\u001b[0;34m\u001b[0m\u001b[0;34m\u001b[0m\u001b[0m\n\u001b[1;32m    346\u001b[0m     \u001b[0;31m# calls in the traceback and some print out the last line\u001b[0m\u001b[0;34m\u001b[0m\u001b[0;34m\u001b[0m\u001b[0m\n\u001b[0;32m--> 347\u001b[0;31m     _engine_run_backward(\n\u001b[0m\u001b[1;32m    348\u001b[0m         \u001b[0mtensors\u001b[0m\u001b[0;34m,\u001b[0m\u001b[0;34m\u001b[0m\u001b[0;34m\u001b[0m\u001b[0m\n\u001b[1;32m    349\u001b[0m         \u001b[0mgrad_tensors_\u001b[0m\u001b[0;34m,\u001b[0m\u001b[0;34m\u001b[0m\u001b[0;34m\u001b[0m\u001b[0m\n",
            "\u001b[0;32m/usr/local/lib/python3.11/dist-packages/torch/autograd/graph.py\u001b[0m in \u001b[0;36m_engine_run_backward\u001b[0;34m(t_outputs, *args, **kwargs)\u001b[0m\n\u001b[1;32m    821\u001b[0m         \u001b[0munregister_hooks\u001b[0m \u001b[0;34m=\u001b[0m \u001b[0m_register_logging_hooks_on_whole_graph\u001b[0m\u001b[0;34m(\u001b[0m\u001b[0mt_outputs\u001b[0m\u001b[0;34m)\u001b[0m\u001b[0;34m\u001b[0m\u001b[0;34m\u001b[0m\u001b[0m\n\u001b[1;32m    822\u001b[0m     \u001b[0;32mtry\u001b[0m\u001b[0;34m:\u001b[0m\u001b[0;34m\u001b[0m\u001b[0;34m\u001b[0m\u001b[0m\n\u001b[0;32m--> 823\u001b[0;31m         return Variable._execution_engine.run_backward(  # Calls into the C++ engine to run the backward pass\n\u001b[0m\u001b[1;32m    824\u001b[0m             \u001b[0mt_outputs\u001b[0m\u001b[0;34m,\u001b[0m \u001b[0;34m*\u001b[0m\u001b[0margs\u001b[0m\u001b[0;34m,\u001b[0m \u001b[0;34m**\u001b[0m\u001b[0mkwargs\u001b[0m\u001b[0;34m\u001b[0m\u001b[0;34m\u001b[0m\u001b[0m\n\u001b[1;32m    825\u001b[0m         )  # Calls into the C++ engine to run the backward pass\n",
            "\u001b[0;31mKeyboardInterrupt\u001b[0m: "
          ]
        }
      ],
      "source": [
        "import numpy as np\n",
        "import torch\n",
        "import torch.nn as nn\n",
        "from torch.nn import init\n",
        "import torch.optim as optim\n",
        "import math\n",
        "import random\n",
        "import os\n",
        "import sys\n",
        "import time\n",
        "from tqdm import tqdm\n",
        "import json\n",
        "import string\n",
        "from argparse import ArgumentParser\n",
        "import pickle\n",
        "\n",
        "unk = '<UNK>'\n",
        "# Consult the PyTorch documentation for information on the functions used below:\n",
        "# https://pytorch.org/docs/stable/torch.html\n",
        "class RNN(nn.Module):\n",
        "    def __init__(self, input_dim, h):  # Add relevant parameters\n",
        "        super(RNN, self).__init__()\n",
        "        self.h = h\n",
        "        self.numOfLayer = 1\n",
        "        self.rnn = nn.RNN(input_dim, h, self.numOfLayer, nonlinearity='tanh')\n",
        "        self.W = nn.Linear(h, 5)\n",
        "        self.softmax = nn.LogSoftmax(dim=1)\n",
        "        self.loss = nn.NLLLoss()\n",
        "\n",
        "    def compute_Loss(self, predicted_vector, gold_label):\n",
        "        return self.loss(predicted_vector, gold_label)\n",
        "\n",
        "    def forward(self, inputs):\n",
        "        # [to fill] obtain hidden layer representation (https://pytorch.org/docs/stable/generated/torch.nn.RNN.html)\n",
        "        _, hidden = self.rnn(inputs)\n",
        "        # [to fill] obtain output layer representations\n",
        "        output = self.W(hidden)\n",
        "        # [to fill] sum over output\n",
        "        output = torch.sum(output, dim=0)\n",
        "        # [to fill] obtain probability dist.\n",
        "        predicted_vector = self.softmax(output)\n",
        "        return predicted_vector\n",
        "\n",
        "\n",
        "def load_data(train_data, val_data):\n",
        "    with open(train_data) as training_f:\n",
        "        training = json.load(training_f)\n",
        "    with open(val_data) as valid_f:\n",
        "        validation = json.load(valid_f)\n",
        "\n",
        "    tra = []\n",
        "    val = []\n",
        "    for elt in training:\n",
        "        tra.append((elt[\"text\"].split(),int(elt[\"stars\"]-1)))\n",
        "    for elt in validation:\n",
        "        val.append((elt[\"text\"].split(),int(elt[\"stars\"]-1)))\n",
        "    return tra, val\n",
        "\n",
        "\n",
        "if __name__ == \"__main__\":\n",
        "    sys.argv = [\n",
        "        \"ffnn\",  # First argument is always the script name\n",
        "        \"-hd\", \"64\",\n",
        "        \"-e\", \"10\",\n",
        "        \"--train_data\", \"/content/training.json\",\n",
        "        \"--val_data\", \"/content/validation.json\",\n",
        "        \"--test_data\", \"/content/test.json\",\n",
        "        \"--do_train\"  # Flag argument\n",
        "    ]\n",
        "    parser = ArgumentParser()\n",
        "    parser.add_argument(\"-hd\", \"--hidden_dim\", type=int, required = True, help = \"hidden_dim\")\n",
        "    parser.add_argument(\"-e\", \"--epochs\", type=int, required = True, help = \"num of epochs to train\")\n",
        "    parser.add_argument(\"--train_data\", required = True, help = \"path to training data\")\n",
        "    parser.add_argument(\"--val_data\", required = True, help = \"path to validation data\")\n",
        "    parser.add_argument(\"--test_data\", default = \"to fill\", help = \"path to test data\")\n",
        "    parser.add_argument('--do_train', action='store_true')\n",
        "    args = parser.parse_args()\n",
        "\n",
        "    print(\"========== Loading data ==========\")\n",
        "    train_data, valid_data = load_data(args.train_data, args.val_data) # X_data is a list of pairs (document, y); y in {0,1,2,3,4}\n",
        "\n",
        "    # Think about the type of function that an RNN describes. To apply it, you will need to convert the text data into vector representations.\n",
        "    # Further, think about where the vectors will come from. There are 3 reasonable choices:\n",
        "    # 1) Randomly assign the input to vectors and learn better embeddings during training; see the PyTorch documentation for guidance\n",
        "    # 2) Assign the input to vectors using pretrained word embeddings. We recommend any of {Word2Vec, GloVe, FastText}. Then, you do not train/update these embeddings.\n",
        "    # 3) You do the same as 2) but you train (this is called fine-tuning) the pretrained embeddings further.\n",
        "    # Option 3 will be the most time consuming, so we do not recommend starting with this\n",
        "\n",
        "    print(\"========== Vectorizing data ==========\")\n",
        "    model = RNN(50, args.hidden_dim)  # Fill in parameters\n",
        "    # optimizer = optim.SGD(model.parameters(), lr=0.01, momentum=0.9)\n",
        "    optimizer = optim.Adam(model.parameters(), lr=0.00001)\n",
        "    word_embedding = pickle.load(open('./word_embedding.pkl', 'rb'))\n",
        "\n",
        "    stopping_condition = False\n",
        "    epoch = 0\n",
        "\n",
        "    last_train_accuracy = 0\n",
        "    last_validation_accuracy = 0\n",
        "    training_losses = []\n",
        "    validation_accuracies = []\n",
        "\n",
        "    while epoch < 40:\n",
        "        random.shuffle(train_data)\n",
        "        model.train()\n",
        "        # You will need further code to operationalize training, ffnn.py may be helpful\n",
        "        print(\"Training started for epoch {}\".format(epoch + 1))\n",
        "        train_data = train_data\n",
        "        correct = 0\n",
        "        total = 0\n",
        "        minibatch_size = 32\n",
        "        N = len(train_data)\n",
        "\n",
        "        loss_total = 0\n",
        "        loss_count = 0\n",
        "        for minibatch_index in tqdm(range(N // minibatch_size)):\n",
        "            optimizer.zero_grad()\n",
        "            loss = None\n",
        "            for example_index in range(minibatch_size):\n",
        "                input_words, gold_label = train_data[minibatch_index * minibatch_size + example_index]\n",
        "                input_words = \" \".join(input_words)\n",
        "\n",
        "                # Remove punctuation\n",
        "                input_words = input_words.translate(input_words.maketrans(\"\", \"\", string.punctuation)).split()\n",
        "\n",
        "                # Look up word embedding dictionary\n",
        "                vectors = [word_embedding[i.lower()] if i.lower() in word_embedding.keys() else word_embedding['unk'] for i in input_words ]\n",
        "\n",
        "                # Transform the input into required shape\n",
        "                vectors = torch.tensor(vectors).view(len(vectors), 1, -1)\n",
        "                output = model(vectors)\n",
        "\n",
        "                # Get loss\n",
        "                example_loss = model.compute_Loss(output.view(1,-1), torch.tensor([gold_label]))\n",
        "\n",
        "                # Get predicted label\n",
        "                predicted_label = torch.argmax(output)\n",
        "\n",
        "                correct += int(predicted_label == gold_label)\n",
        "                # print(predicted_label, gold_label)\n",
        "                total += 1\n",
        "                if loss is None:\n",
        "                    loss = example_loss\n",
        "                else:\n",
        "                    loss += example_loss\n",
        "                # print(loss.item())\n",
        "            loss = loss / minibatch_size\n",
        "            loss_total += loss.data\n",
        "            loss_count += 1\n",
        "            loss.backward()\n",
        "            optimizer.step()\n",
        "        print(loss_total/loss_count)\n",
        "        avg_training_loss = loss_total / loss_count if loss_count > 0 else 0.0\n",
        "        training_losses.append(avg_training_loss)\n",
        "        print(\"Training loss for epoch {}: {}\".format(epoch + 1, avg_training_loss))\n",
        "        print(\"Training completed for epoch {}\".format(epoch + 1))\n",
        "        print(\"Training accuracy for epoch {}: {}\".format(epoch + 1, correct / total))\n",
        "        trainning_accuracy = correct/total\n",
        "\n",
        "\n",
        "        model.eval()\n",
        "        correct = 0\n",
        "        total = 0\n",
        "        random.shuffle(valid_data)\n",
        "        print(\"Validation started for epoch {}\".format(epoch + 1))\n",
        "        valid_data = valid_data\n",
        "\n",
        "        for input_words, gold_label in tqdm(valid_data):\n",
        "            input_words = \" \".join(input_words)\n",
        "            input_words = input_words.translate(input_words.maketrans(\"\", \"\", string.punctuation)).split()\n",
        "            vectors = [word_embedding[i.lower()] if i.lower() in word_embedding.keys() else word_embedding['unk'] for i\n",
        "                       in input_words]\n",
        "\n",
        "            vectors = torch.tensor(vectors).view(len(vectors), 1, -1)\n",
        "            output = model(vectors)\n",
        "            predicted_label = torch.argmax(output)\n",
        "            correct += int(predicted_label == gold_label)\n",
        "            total += 1\n",
        "            # print(predicted_label, gold_label)\n",
        "        validation_accuracies.append(correct / total)\n",
        "        print(\"Validation completed for epoch {}\".format(epoch + 1))\n",
        "        print(\"Validation accuracy for epoch {}: {}\".format(epoch + 1, correct / total))\n",
        "        validation_accuracy = correct/total\n",
        "\n",
        "        # if validation_accuracy < last_validation_accuracy and trainning_accuracy > last_train_accuracy:\n",
        "        #     stopping_condition=True\n",
        "        #     print(\"Training done to avoid overfitting!\")\n",
        "        #     print(\"Best validation accuracy is:\", last_validation_accuracy)\n",
        "        # else:\n",
        "        #     last_validation_accuracy = validation_accuracy\n",
        "        #     last_train_accuracy = trainning_accuracy\n",
        "\n",
        "        epoch += 1\n",
        "\n",
        "\n",
        "\n",
        "    # You may find it beneficial to keep track of training accuracy or training loss;\n",
        "\n",
        "    # Think about how to update the model and what this entails. Consider ffnn.py and the PyTorch documentation for guidance\n"
      ]
    },
    {
      "cell_type": "code",
      "execution_count": 6,
      "metadata": {
        "colab": {
          "base_uri": "https://localhost:8080/",
          "height": 507
        },
        "id": "8EC27ZAZnaeO",
        "outputId": "68d71403-3631-414c-d777-81508d6d251b"
      },
      "outputs": [
        {
          "output_type": "display_data",
          "data": {
            "text/plain": [
              "<Figure size 800x500 with 2 Axes>"
            ],
            "image/png": "[encoded data removed]"
          },
          "metadata": {}
        }
      ],
      "source": [
        "import matplotlib.pyplot as plt\n",
        "fig, ax1 = plt.subplots(figsize=(8, 5))\n",
        "\n",
        "    # Plot Training Loss on the left y-axis\n",
        "ax1.set_xlabel(\"Epochs\")\n",
        "ax1.set_ylabel(\"Training Loss\", color='red')\n",
        "ax1.plot(range(1, 21), training_losses, marker='o', linestyle='-', color='red', label=\"Training Loss\")\n",
        "ax1.tick_params(axis='y', labelcolor='red')\n",
        "\n",
        "    # Create a secondary y-axis for Validation Accuracy\n",
        "ax2 = ax1.twinx()\n",
        "ax2.set_ylabel(\"Validation Accuracy (%)\", color='blue')\n",
        "ax2.plot(range(1, 21), validation_accuracies, marker='s', linestyle='--', color='blue', label=\"Validation Accuracy\")\n",
        "ax2.tick_params(axis='y', labelcolor='blue')\n",
        "\n",
        "    # Title and Grid\n",
        "plt.title(\"Training Loss and Validation Accuracy Over Epochs for RNN\")\n",
        "fig.tight_layout()\n",
        "plt.grid(True)\n",
        "plt.show()"
      ]
    }
  ],
  "metadata": {
    "accelerator": "GPU",
    "colab": {
      "gpuType": "T4",
      "provenance": [],
      "authorship_tag": "ABX9TyN3ONWMdqfew4f0dVXshKE2",
      "include_colab_link": true
    },
    "kernelspec": {
      "display_name": "Python 3",
      "name": "python3"
    },
    "language_info": {
      "name": "python"
    }
  },
  "nbformat": 4,
  "nbformat_minor": 0
}